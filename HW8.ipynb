{
  "nbformat": 4,
  "nbformat_minor": 0,
  "metadata": {
    "colab": {
      "provenance": [],
      "mount_file_id": "1orYCc-Mrb1UT-WLG8lgdQVhJU_QCMWPP",
      "authorship_tag": "ABX9TyNwz7HGILFErX5EtmSzIfYz",
      "include_colab_link": true
    },
    "kernelspec": {
      "name": "python3",
      "display_name": "Python 3"
    },
    "language_info": {
      "name": "python"
    }
  },
  "cells": [
    {
      "cell_type": "markdown",
      "metadata": {
        "id": "view-in-github",
        "colab_type": "text"
      },
      "source": [
        "<a href=\"https://colab.research.google.com/github/Zaicevvv/GoIT-DSandML-Private/blob/main/HW8.ipynb\" target=\"_parent\"><img src=\"https://colab.research.google.com/assets/colab-badge.svg\" alt=\"Open In Colab\"/></a>"
      ]
    },
    {
      "cell_type": "markdown",
      "source": [
        "Завантажуємо дані з CSV-файлів, витягуємо часові ознаки з акселерометра та розділяємо дані на навчальний та тестовий набори. Також нормалізуємо дані за допомогою StandardScaler."
      ],
      "metadata": {
        "id": "Tx8tikeztpCi"
      }
    },
    {
      "cell_type": "code",
      "execution_count": 8,
      "metadata": {
        "id": "u5L1VXG9csRL"
      },
      "outputs": [],
      "source": [
        "import numpy as np\n",
        "import pandas as pd\n",
        "from pathlib import Path\n",
        "from sklearn.model_selection import train_test_split\n",
        "from sklearn.preprocessing import StandardScaler\n",
        "\n",
        "# Папка, де зберігаються CSV-файли\n",
        "data_folder = Path(\"/content/drive/MyDrive/data\")\n",
        "# Створимо порожні списки для даних та міток класів\n",
        "X = []\n",
        "y = []\n",
        "\n",
        "# Функція для витягнення часових ознак з акселерометра\n",
        "def extract_features(data):\n",
        "    features = []\n",
        "    # Додамо середнє значення для кожного стовпця\n",
        "    features.extend(np.mean(data, axis=0))\n",
        "    # Додамо середнє квадратичне відхилення для кожного стовпця\n",
        "    features.extend(np.std(data, axis=0))\n",
        "    # Додамо медіану для кожного стовпця\n",
        "    features.extend(np.median(data, axis=0))\n",
        "    # Додамо мінімальне та максимальне значення для кожного стовпця\n",
        "    features.extend(np.min(data, axis=0))\n",
        "    features.extend(np.max(data, axis=0))\n",
        "    return features\n",
        "\n",
        "# Пройдемось по всім папкам та файлам, зчитаємо дані та витягнемо ознаки\n",
        "for folder in data_folder.iterdir():\n",
        "    for csv_file in folder.iterdir():\n",
        "        data = pd.read_csv(csv_file)\n",
        "\n",
        "        # Витягнемо ознаки та додамо мітку класу\n",
        "        features = extract_features(data.values)\n",
        "        X.append(features)\n",
        "        y.append(folder.name)\n",
        "\n",
        "# Перетворимо списки у numpy масиви\n",
        "X = np.array(X)\n",
        "y = np.array(y)\n",
        "\n",
        "# Розділимо дані на навчальний та тестовий набори\n",
        "X_train, X_test, y_train, y_test = train_test_split(X, y, test_size=0.2, random_state=42)\n",
        "\n",
        "# Нормалізуємо дані\n",
        "scaler = StandardScaler()\n",
        "X_train_scaled = scaler.fit_transform(X_train)\n",
        "X_test_scaled = scaler.transform(X_test)"
      ]
    },
    {
      "cell_type": "markdown",
      "source": [
        "Перейдемо до навчання моделей SVM та випадкового лісу."
      ],
      "metadata": {
        "id": "BLaWCQH_EVF5"
      }
    },
    {
      "cell_type": "code",
      "source": [
        "from sklearn.svm import SVC\n",
        "from sklearn.ensemble import RandomForestClassifier\n",
        "from sklearn.metrics import classification_report\n",
        "\n",
        "# Навчання моделі SVM\n",
        "svm_model = SVC(kernel='linear').fit(X_train_scaled, y_train)\n",
        "\n",
        "# Навчання моделі випадкового лісу\n",
        "rf_model = RandomForestClassifier(n_estimators=100, random_state=42).fit(X_train_scaled, y_train)\n",
        "\n",
        "# Оцінка результатів\n",
        "svm_predictions = svm_model.predict(X_test_scaled)\n",
        "rf_predictions = rf_model.predict(X_test_scaled)\n",
        "\n",
        "# Отримання звіту про класифікацію\n",
        "svm_report = classification_report(y_test, svm_predictions)\n",
        "rf_report = classification_report(y_test, rf_predictions)\n",
        "\n",
        "print(\"SVM classification report:\")\n",
        "print(svm_report)\n",
        "\n",
        "print(\"\\nRandom Forest classification report:\")\n",
        "print(rf_report)"
      ],
      "metadata": {
        "id": "62bZo8cDi8jj",
        "colab": {
          "base_uri": "https://localhost:8080/"
        },
        "outputId": "c1b9bccc-a011-413a-95a8-89508ad8571e"
      },
      "execution_count": 9,
      "outputs": [
        {
          "output_type": "stream",
          "name": "stdout",
          "text": [
            "SVM classification report:\n",
            "              precision    recall  f1-score   support\n",
            "\n",
            "        idle       1.00      1.00      1.00       208\n",
            "     running       1.00      1.00      1.00       701\n",
            "      stairs       0.95      0.60      0.73        30\n",
            "     walking       0.97      1.00      0.98       354\n",
            "\n",
            "    accuracy                           0.99      1293\n",
            "   macro avg       0.98      0.90      0.93      1293\n",
            "weighted avg       0.99      0.99      0.99      1293\n",
            "\n",
            "\n",
            "Random Forest classification report:\n",
            "              precision    recall  f1-score   support\n",
            "\n",
            "        idle       1.00      1.00      1.00       208\n",
            "     running       1.00      1.00      1.00       701\n",
            "      stairs       1.00      1.00      1.00        30\n",
            "     walking       1.00      1.00      1.00       354\n",
            "\n",
            "    accuracy                           1.00      1293\n",
            "   macro avg       1.00      1.00      1.00      1293\n",
            "weighted avg       1.00      1.00      1.00      1293\n",
            "\n"
          ]
        }
      ]
    },
    {
      "cell_type": "markdown",
      "source": [
        "У підсумку можна сказати, що випадковий ліс показав ідеальні результати на тестових даних, на відміну від SVM."
      ],
      "metadata": {
        "id": "JMIZnHJ-F2s3"
      }
    }
  ]
}