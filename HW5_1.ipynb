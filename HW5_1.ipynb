{
  "nbformat": 4,
  "nbformat_minor": 0,
  "metadata": {
    "colab": {
      "provenance": [],
      "authorship_tag": "ABX9TyN/OgkyYFxl4iSOsaqFZMVR",
      "include_colab_link": true
    },
    "kernelspec": {
      "name": "python3",
      "display_name": "Python 3"
    },
    "language_info": {
      "name": "python"
    }
  },
  "cells": [
    {
      "cell_type": "markdown",
      "metadata": {
        "id": "view-in-github",
        "colab_type": "text"
      },
      "source": [
        "<a href=\"https://colab.research.google.com/github/Zaicevvv/goit-dsandml-private/blob/main/HW5_1.ipynb\" target=\"_parent\"><img src=\"https://colab.research.google.com/assets/colab-badge.svg\" alt=\"Open In Colab\"/></a>"
      ]
    },
    {
      "cell_type": "code",
      "execution_count": 2,
      "metadata": {
        "id": "kZUtp6HKqM4k"
      },
      "outputs": [],
      "source": [
        "import pandas as pd\n",
        "import matplotlib.pyplot as plt\n",
        "\n",
        "url = \"https://uk.wikipedia.org/wiki/%D0%9D%D0%B0%D1%81%D0%B5%D0%BB%D0%B5%D0%BD%D0%BD%D1%8F_%D0%A3%D0%BA%D1%80%D0%B0%D1%97%D0%BD%D0%B8\"\n",
        "data = pd.read_html(\n",
        "    url,\n",
        "    match=\"Коефіцієнт народжуваності в регіонах України\",\n",
        "    decimal=\",\",\n",
        "    thousands=\".\",\n",
        ")[0]"
      ]
    },
    {
      "cell_type": "markdown",
      "source": [
        "Вивести перші рядки таблиці за допомогою методу head"
      ],
      "metadata": {
        "id": "_A0qpHDTqX1C"
      }
    },
    {
      "cell_type": "code",
      "source": [
        "print(data.head())"
      ],
      "metadata": {
        "colab": {
          "base_uri": "https://localhost:8080/"
        },
        "id": "md2XhXFVqeiy",
        "outputId": "f48cec06-768e-41c4-8005-f9ac4a495894"
      },
      "execution_count": 3,
      "outputs": [
        {
          "output_type": "stream",
          "name": "stdout",
          "text": [
            "             Регіон  1950  1960  1970  1990  2000  2012  2014  2019\n",
            "0              Крим  23.0  20.6  16.0  13.0   7.3  12.6     —     —\n",
            "1         Вінницька  22.4  19.2  14.2  12.4   8.4  11.2  10.9   7.6\n",
            "2         Волинська  24.7  25.0  17.9  15.3  11.2  14.8  14.1  10.1\n",
            "3  Дніпропетровська  20.4  20.4  15.1  12.3   7.1  11.2  11.1   7.1\n",
            "4          Донецька  27.1  21.4  14.0  10.9   6.1   9.8   8.2     —\n"
          ]
        }
      ]
    },
    {
      "cell_type": "markdown",
      "source": [
        "Визначте кількість рядків та стовпців у датафреймі (атрибут shape)"
      ],
      "metadata": {
        "id": "zyFiWXAhqtxA"
      }
    },
    {
      "cell_type": "code",
      "source": [
        "print(data.shape)"
      ],
      "metadata": {
        "colab": {
          "base_uri": "https://localhost:8080/"
        },
        "id": "MLfZSjrTqxI4",
        "outputId": "785a638f-437f-4bec-fa67-ebced00e7161"
      },
      "execution_count": 9,
      "outputs": [
        {
          "output_type": "stream",
          "name": "stdout",
          "text": [
            "(28, 9)\n"
          ]
        }
      ]
    },
    {
      "cell_type": "markdown",
      "source": [
        "Замініть у таблиці значення \"—\" на значення NaN"
      ],
      "metadata": {
        "id": "tHC2PB-broUi"
      }
    },
    {
      "cell_type": "code",
      "source": [
        "data.replace('—', 'NaN')\n",
        "print(data)"
      ],
      "metadata": {
        "colab": {
          "base_uri": "https://localhost:8080/"
        },
        "id": "Ap-o5IzfrpDR",
        "outputId": "f90015b6-81c0-4413-e1a7-92f32b66f178"
      },
      "execution_count": 12,
      "outputs": [
        {
          "output_type": "stream",
          "name": "stdout",
          "text": [
            "               Регіон  1950  1960  1970  1990  2000  2012  2014  2019\n",
            "0                Крим  23.0  20.6  16.0  13.0   7.3  12.6   NaN   NaN\n",
            "1           Вінницька  22.4  19.2  14.2  12.4   8.4  11.2  10.9   7.6\n",
            "2           Волинська  24.7  25.0  17.9  15.3  11.2  14.8  14.1  10.1\n",
            "3    Дніпропетровська  20.4  20.4  15.1  12.3   7.1  11.2  11.1   7.1\n",
            "4            Донецька  27.1  21.4  14.0  10.9   6.1   9.8   8.2   NaN\n",
            "5         Житомирська  26.1  22.3  15.9  12.9   8.9  12.2  12.0   7.9\n",
            "6        Закарпатська  31.4  27.3  20.7  16.8  11.5  15.1  14.6  10.4\n",
            "7          Запорізька  21.9  19.7  15.0  12.4   7.1  10.6  10.6   6.8\n",
            "8   Івано-Франківська  24.3  24.8  18.2  15.5  10.3  12.4  12.2   8.8\n",
            "9            Київська  20.4  18.9  15.6  12.3   7.3  12.2  12.1   8.0\n",
            "10     Кіровоградська  21.6  17.1  14.5  12.6   7.9  11.0  10.8   6.8\n",
            "11          Луганська  26.2  23.5  14.4  11.6   6.2   9.6   5.1   NaN\n",
            "12          Львівська  23.4  24.0  17.1  14.0   9.1  11.9  11.9   8.7\n",
            "13       Миколаївська  21.1  19.4  15.5  13.7   8.0  11.5  11.2   7.1\n",
            "14            Одеська  24.1  19.2  14.8  12.6   8.0  12.7  12.3   8.8\n",
            "15         Полтавська  18.6  16.3  13.1  11.8   7.0   9.9  10.0   6.5\n",
            "16         Рівненська  26.9  26.7  19.3  15.8  11.8  15.9  14.8  10.7\n",
            "17            Сумська  21.6  18.4  13.2  11.5   7.0   9.7   9.2   6.0\n",
            "18      Тернопільська  21.3  21.6  15.7  14.2   9.2  11.3  10.9   7.6\n",
            "19         Харківська  19.7  17.3  14.0  11.4   6.8   9.9  10.1   6.8\n",
            "20         Херсонська  20.8  21.4  16.6  14.3   8.5  11.7  11.5   8.1\n",
            "21        Хмельницька  23.4  19.8  14.8  12.9   8.5  11.3  11.2   7.9\n",
            "22          Черкаська  20.5  17.9  14.4  12.3   7.5  10.0   9.8   6.4\n",
            "23        Чернівецька  24.7  21.8  17.0  14.8  10.1  12.8  12.9   9.2\n",
            "24       Чернігівська  22.0  18.3  12.7  10.8   6.9   9.4   9.0   6.1\n",
            "25               Київ   NaN  17.4  15.9  12.0   7.3  12.0  12.1  11.0\n",
            "26        Севастополь   NaN   NaN   NaN  12.5   7.0  12.0   NaN   NaN\n",
            "27            Україна  22.8  20.5  15.2  12.6   7.8  11.4  11.1   8.1\n"
          ]
        }
      ]
    },
    {
      "cell_type": "markdown",
      "source": [
        "Визначте типи всіх стовпців за допомогою dataframe.dtypes"
      ],
      "metadata": {
        "id": "SAyu_xjNtlo2"
      }
    },
    {
      "cell_type": "code",
      "source": [
        "print(data.dtypes)"
      ],
      "metadata": {
        "colab": {
          "base_uri": "https://localhost:8080/"
        },
        "id": "1mfZ-h5Etl6U",
        "outputId": "f0dca1d2-4935-4c57-ee4c-b5c41bbea832"
      },
      "execution_count": 14,
      "outputs": [
        {
          "output_type": "stream",
          "name": "stdout",
          "text": [
            "Регіон     object\n",
            "1950      float64\n",
            "1960      float64\n",
            "1970      float64\n",
            "1990      float64\n",
            "2000      float64\n",
            "2012      float64\n",
            "2014       object\n",
            "2019       object\n",
            "dtype: object\n"
          ]
        }
      ]
    },
    {
      "cell_type": "markdown",
      "source": [
        "Замініть типи нечислових колонок на числові. Підказка - це колонки, де знаходився символ \"—\""
      ],
      "metadata": {
        "id": "D38sCsZduJJb"
      }
    },
    {
      "cell_type": "code",
      "source": [
        "data['2014'] = pd.to_numeric(data['2014'], errors='coerce')\n",
        "data['2019'] = pd.to_numeric(data['2019'], errors='coerce')\n",
        "\n",
        "print(data.dtypes)"
      ],
      "metadata": {
        "colab": {
          "base_uri": "https://localhost:8080/"
        },
        "id": "FWmn3J8puO2f",
        "outputId": "165b583f-af32-4536-bbf4-cf37a42721b9"
      },
      "execution_count": 17,
      "outputs": [
        {
          "output_type": "stream",
          "name": "stdout",
          "text": [
            "Регіон     object\n",
            "1950      float64\n",
            "1960      float64\n",
            "1970      float64\n",
            "1990      float64\n",
            "2000      float64\n",
            "2012      float64\n",
            "2014      float64\n",
            "2019      float64\n",
            "dtype: object\n"
          ]
        }
      ]
    },
    {
      "cell_type": "markdown",
      "source": [
        "Порахуйте, яка частка пропусків міститься в кожній колонці (використовуйте методи isnull та sum)"
      ],
      "metadata": {
        "id": "mdfCY-89w63R"
      }
    },
    {
      "cell_type": "code",
      "source": [
        "print(data.isnull().sum())"
      ],
      "metadata": {
        "colab": {
          "base_uri": "https://localhost:8080/"
        },
        "id": "i0s29JcQxAvv",
        "outputId": "987646b0-25cc-4643-a19e-080c9998d4e3"
      },
      "execution_count": 21,
      "outputs": [
        {
          "output_type": "stream",
          "name": "stdout",
          "text": [
            "Регіон    0\n",
            "1950      2\n",
            "1960      1\n",
            "1970      1\n",
            "1990      0\n",
            "2000      0\n",
            "2012      0\n",
            "2014      2\n",
            "2019      4\n",
            "dtype: int64\n"
          ]
        }
      ]
    },
    {
      "cell_type": "markdown",
      "source": [
        "Видаліть з таблиці дані по всій країні, останній рядок таблиці"
      ],
      "metadata": {
        "id": "5yq3KXg7xyFz"
      }
    },
    {
      "cell_type": "code",
      "source": [
        "data.drop([len(data) - 1], inplace=True)\n",
        "print(data)"
      ],
      "metadata": {
        "colab": {
          "base_uri": "https://localhost:8080/"
        },
        "id": "mvmD07yix3Ml",
        "outputId": "3b387a6e-0620-4472-e963-2abc5bb2b346"
      },
      "execution_count": 22,
      "outputs": [
        {
          "output_type": "stream",
          "name": "stdout",
          "text": [
            "               Регіон  1950  1960  1970  1990  2000  2012  2014  2019\n",
            "0                Крим  23.0  20.6  16.0  13.0   7.3  12.6   NaN   NaN\n",
            "1           Вінницька  22.4  19.2  14.2  12.4   8.4  11.2  10.9   7.6\n",
            "2           Волинська  24.7  25.0  17.9  15.3  11.2  14.8  14.1  10.1\n",
            "3    Дніпропетровська  20.4  20.4  15.1  12.3   7.1  11.2  11.1   7.1\n",
            "4            Донецька  27.1  21.4  14.0  10.9   6.1   9.8   8.2   NaN\n",
            "5         Житомирська  26.1  22.3  15.9  12.9   8.9  12.2  12.0   7.9\n",
            "6        Закарпатська  31.4  27.3  20.7  16.8  11.5  15.1  14.6  10.4\n",
            "7          Запорізька  21.9  19.7  15.0  12.4   7.1  10.6  10.6   6.8\n",
            "8   Івано-Франківська  24.3  24.8  18.2  15.5  10.3  12.4  12.2   8.8\n",
            "9            Київська  20.4  18.9  15.6  12.3   7.3  12.2  12.1   8.0\n",
            "10     Кіровоградська  21.6  17.1  14.5  12.6   7.9  11.0  10.8   6.8\n",
            "11          Луганська  26.2  23.5  14.4  11.6   6.2   9.6   5.1   NaN\n",
            "12          Львівська  23.4  24.0  17.1  14.0   9.1  11.9  11.9   8.7\n",
            "13       Миколаївська  21.1  19.4  15.5  13.7   8.0  11.5  11.2   7.1\n",
            "14            Одеська  24.1  19.2  14.8  12.6   8.0  12.7  12.3   8.8\n",
            "15         Полтавська  18.6  16.3  13.1  11.8   7.0   9.9  10.0   6.5\n",
            "16         Рівненська  26.9  26.7  19.3  15.8  11.8  15.9  14.8  10.7\n",
            "17            Сумська  21.6  18.4  13.2  11.5   7.0   9.7   9.2   6.0\n",
            "18      Тернопільська  21.3  21.6  15.7  14.2   9.2  11.3  10.9   7.6\n",
            "19         Харківська  19.7  17.3  14.0  11.4   6.8   9.9  10.1   6.8\n",
            "20         Херсонська  20.8  21.4  16.6  14.3   8.5  11.7  11.5   8.1\n",
            "21        Хмельницька  23.4  19.8  14.8  12.9   8.5  11.3  11.2   7.9\n",
            "22          Черкаська  20.5  17.9  14.4  12.3   7.5  10.0   9.8   6.4\n",
            "23        Чернівецька  24.7  21.8  17.0  14.8  10.1  12.8  12.9   9.2\n",
            "24       Чернігівська  22.0  18.3  12.7  10.8   6.9   9.4   9.0   6.1\n",
            "25               Київ   NaN  17.4  15.9  12.0   7.3  12.0  12.1  11.0\n",
            "26        Севастополь   NaN   NaN   NaN  12.5   7.0  12.0   NaN   NaN\n"
          ]
        }
      ]
    },
    {
      "cell_type": "markdown",
      "source": [
        "Замініть відсутні дані в стовпцях середніми значеннями цих стовпців (метод fillna)"
      ],
      "metadata": {
        "id": "n9-wwWBEyfwP"
      }
    },
    {
      "cell_type": "code",
      "source": [
        "for column in data.columns[1:]:\n",
        "    data[column].fillna(data[column].mean(), inplace=True)\n",
        "    data[column] = data[column].round(1)\n",
        "print(data)"
      ],
      "metadata": {
        "colab": {
          "base_uri": "https://localhost:8080/"
        },
        "id": "nc1O-hmsyh_u",
        "outputId": "6f1bba42-94c0-478d-9204-f94ab6ff0577"
      },
      "execution_count": 34,
      "outputs": [
        {
          "output_type": "stream",
          "name": "stdout",
          "text": [
            "               Регіон  1950  1960  1970  1990  2000  2012  2014  2019\n",
            "0                Крим  23.0  20.6  16.0  13.0   7.3  12.6  11.1   8.0\n",
            "1           Вінницька  22.4  19.2  14.2  12.4   8.4  11.2  10.9   7.6\n",
            "2           Волинська  24.7  25.0  17.9  15.3  11.2  14.8  14.1  10.1\n",
            "3    Дніпропетровська  20.4  20.4  15.1  12.3   7.1  11.2  11.1   7.1\n",
            "4            Донецька  27.1  21.4  14.0  10.9   6.1   9.8   8.2   8.0\n",
            "5         Житомирська  26.1  22.3  15.9  12.9   8.9  12.2  12.0   7.9\n",
            "6        Закарпатська  31.4  27.3  20.7  16.8  11.5  15.1  14.6  10.4\n",
            "7          Запорізька  21.9  19.7  15.0  12.4   7.1  10.6  10.6   6.8\n",
            "8   Івано-Франківська  24.3  24.8  18.2  15.5  10.3  12.4  12.2   8.8\n",
            "9            Київська  20.4  18.9  15.6  12.3   7.3  12.2  12.1   8.0\n",
            "10     Кіровоградська  21.6  17.1  14.5  12.6   7.9  11.0  10.8   6.8\n",
            "11          Луганська  26.2  23.5  14.4  11.6   6.2   9.6   5.1   8.0\n",
            "12          Львівська  23.4  24.0  17.1  14.0   9.1  11.9  11.9   8.7\n",
            "13       Миколаївська  21.1  19.4  15.5  13.7   8.0  11.5  11.2   7.1\n",
            "14            Одеська  24.1  19.2  14.8  12.6   8.0  12.7  12.3   8.8\n",
            "15         Полтавська  18.6  16.3  13.1  11.8   7.0   9.9  10.0   6.5\n",
            "16         Рівненська  26.9  26.7  19.3  15.8  11.8  15.9  14.8  10.7\n",
            "17            Сумська  21.6  18.4  13.2  11.5   7.0   9.7   9.2   6.0\n",
            "18      Тернопільська  21.3  21.6  15.7  14.2   9.2  11.3  10.9   7.6\n",
            "19         Харківська  19.7  17.3  14.0  11.4   6.8   9.9  10.1   6.8\n",
            "20         Херсонська  20.8  21.4  16.6  14.3   8.5  11.7  11.5   8.1\n",
            "21        Хмельницька  23.4  19.8  14.8  12.9   8.5  11.3  11.2   7.9\n",
            "22          Черкаська  20.5  17.9  14.4  12.3   7.5  10.0   9.8   6.4\n",
            "23        Чернівецька  24.7  21.8  17.0  14.8  10.1  12.8  12.9   9.2\n",
            "24       Чернігівська  22.0  18.3  12.7  10.8   6.9   9.4   9.0   6.1\n",
            "25               Київ  23.1  17.4  15.9  12.0   7.3  12.0  12.1  11.0\n",
            "26        Севастополь  23.1  20.8  15.6  12.5   7.0  12.0  11.1   8.0\n"
          ]
        }
      ]
    },
    {
      "cell_type": "markdown",
      "source": [
        "Отримайте список регіонів, де рівень народжуваності у 2019 році був вищим за середній по Україні"
      ],
      "metadata": {
        "id": "RwpcTQmO2yUR"
      }
    },
    {
      "cell_type": "code",
      "source": [
        "average_2019_region = data[data['2019'] > data['2019'].mean()]['Регіон'].tolist()\n",
        "print(average_2019_region)"
      ],
      "metadata": {
        "colab": {
          "base_uri": "https://localhost:8080/"
        },
        "id": "aYptDrwx23Ks",
        "outputId": "ca16d574-d23c-4350-aef7-2cb66b2023de"
      },
      "execution_count": 36,
      "outputs": [
        {
          "output_type": "stream",
          "name": "stdout",
          "text": [
            "['Волинська', 'Закарпатська', 'Івано-Франківська', 'Львівська', 'Одеська', 'Рівненська', 'Херсонська', 'Чернівецька', 'Київ']\n"
          ]
        }
      ]
    },
    {
      "cell_type": "markdown",
      "source": [
        "У якому регіоні була найвища народжуваність у 2014 році?"
      ],
      "metadata": {
        "id": "g6yT2yu35o3B"
      }
    },
    {
      "cell_type": "code",
      "source": [
        "max_birth_rate_2014_region = data[data['2014'] == data['2014'].max()]['Регіон']\n",
        "print(max_birth_rate_2014_region)"
      ],
      "metadata": {
        "colab": {
          "base_uri": "https://localhost:8080/"
        },
        "id": "p7ydmtY65uFV",
        "outputId": "cba96956-5ff3-4223-db36-54331e6dfc36"
      },
      "execution_count": 37,
      "outputs": [
        {
          "output_type": "stream",
          "name": "stdout",
          "text": [
            "16    Рівненська\n",
            "Name: Регіон, dtype: object\n"
          ]
        }
      ]
    },
    {
      "cell_type": "markdown",
      "source": [
        "Візуалізація"
      ],
      "metadata": {
        "id": "vwpRQPKH6ta7"
      }
    },
    {
      "cell_type": "code",
      "source": [
        "data.plot(kind=\"bar\", title='Коефіцієнт народжуваності в регіонах України (1950-2019)')\n",
        "plt.xticks(range(len(data)), data.iloc[:, 0])\n",
        "plt.show()"
      ],
      "metadata": {
        "colab": {
          "base_uri": "https://localhost:8080/",
          "height": 574
        },
        "id": "xB9BGHGm6xlv",
        "outputId": "4cf2fc0b-33ff-46ab-d71d-4c6073fd0eb4"
      },
      "execution_count": 46,
      "outputs": [
        {
          "output_type": "display_data",
          "data": {
            "text/plain": [
              "<Figure size 640x480 with 1 Axes>"
            ],
            "image/png": "[encoded data removed]"
          },
          "metadata": {}
        }
      ]
    }
  ]
}