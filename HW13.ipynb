{
  "nbformat": 4,
  "nbformat_minor": 0,
  "metadata": {
    "colab": {
      "provenance": [],
      "authorship_tag": "ABX9TyO56s9RayNLx/rqE0fvGozL",
      "include_colab_link": true
    },
    "kernelspec": {
      "name": "python3",
      "display_name": "Python 3"
    },
    "language_info": {
      "name": "python"
    }
  },
  "cells": [
    {
      "cell_type": "markdown",
      "metadata": {
        "id": "view-in-github",
        "colab_type": "text"
      },
      "source": [
        "<a href=\"https://colab.research.google.com/github/Zaicevvv/GoIT-DSandML-Private/blob/main/HW13.ipynb\" target=\"_parent\"><img src=\"https://colab.research.google.com/assets/colab-badge.svg\" alt=\"Open In Colab\"/></a>"
      ]
    },
    {
      "cell_type": "markdown",
      "source": [
        "# Частина 1"
      ],
      "metadata": {
        "id": "FOOhfIQEdBRD"
      }
    },
    {
      "cell_type": "markdown",
      "source": [
        "**Cтворити згорткову нейромережу. Підберіть архітектуру мережі та навчіть її на даних із датасету fasion_mnist.**"
      ],
      "metadata": {
        "id": "LdGtx5-icYUd"
      }
    },
    {
      "cell_type": "code",
      "source": [
        "import numpy as np\n",
        "import pandas as pd\n",
        "import matplotlib.pyplot as plt\n",
        "\n",
        "import tensorflow as tf\n",
        "from tensorflow.keras.models import Sequential\n",
        "from tensorflow.keras.layers import Conv2D, MaxPooling2D, Dropout, Flatten, Dense\n",
        "from tensorflow.keras.optimizers import Adam\n",
        "from tensorflow.keras.losses import SparseCategoricalCrossentropy\n",
        "from tensorflow.keras.metrics import SparseCategoricalAccuracy\n",
        "from tensorflow.keras.callbacks import EarlyStopping"
      ],
      "metadata": {
        "id": "vxuTh-nDcwZ6"
      },
      "execution_count": 1,
      "outputs": []
    },
    {
      "cell_type": "markdown",
      "source": [
        "Завантажимо датасет та нормалізуємо дані."
      ],
      "metadata": {
        "id": "vyEGnsMNcxDA"
      }
    },
    {
      "cell_type": "code",
      "source": [
        "(x_train, y_train), (x_test, y_test) = tf.keras.datasets.fashion_mnist.load_data()\n",
        "\n",
        "x_train = x_train / 255\n",
        "x_test = x_test / 255"
      ],
      "metadata": {
        "colab": {
          "base_uri": "https://localhost:8080/"
        },
        "id": "pGVE9yf0ctFy",
        "outputId": "d3702271-6a26-4012-ef3c-e720fb624558"
      },
      "execution_count": null,
      "outputs": [
        {
          "output_type": "stream",
          "name": "stdout",
          "text": [
            "Downloading data from https://storage.googleapis.com/tensorflow/tf-keras-datasets/train-labels-idx1-ubyte.gz\n",
            "29515/29515 [==============================] - 0s 0us/step\n",
            "Downloading data from https://storage.googleapis.com/tensorflow/tf-keras-datasets/train-images-idx3-ubyte.gz\n",
            "26421880/26421880 [==============================] - 0s 0us/step\n",
            "Downloading data from https://storage.googleapis.com/tensorflow/tf-keras-datasets/t10k-labels-idx1-ubyte.gz\n",
            "5148/5148 [==============================] - 0s 0us/step\n",
            "Downloading data from https://storage.googleapis.com/tensorflow/tf-keras-datasets/t10k-images-idx3-ubyte.gz\n",
            "4422102/4422102 [==============================] - 0s 0us/step\n"
          ]
        }
      ]
    },
    {
      "cell_type": "markdown",
      "source": [
        "Функція відслідковування історії навчання."
      ],
      "metadata": {
        "id": "jtOW0YdVdm_d"
      }
    },
    {
      "cell_type": "code",
      "source": [
        "def plot_history(hst):\n",
        "  plt.figure(figsize=(13,4))\n",
        "\n",
        "  plt.subplot(1, 2, 1)\n",
        "  plt.plot(hst.history['loss'], label='train')\n",
        "  plt.plot(hst.history['val_loss'], label='test')\n",
        "  plt.title('Loss')\n",
        "\n",
        "  plt.subplot(1, 2, 2)\n",
        "  plt.plot([round(100*e,2) for e in hst.history['sparse_categorical_accuracy']], label='train')\n",
        "  plt.plot([round(100*e,2) for e in hst.history['val_sparse_categorical_accuracy']], label='test')\n",
        "  plt.title('Accuracy')\n",
        "  plt.ylim(0, 100)\n",
        "  plt.legend()\n",
        "  plt.tight_layout()\n",
        "  plt.show()"
      ],
      "metadata": {
        "id": "_88fLwlOdniz"
      },
      "execution_count": 2,
      "outputs": []
    },
    {
      "cell_type": "markdown",
      "source": [
        "Побудуємо, навчимо та перевіримо модель"
      ],
      "metadata": {
        "id": "9s9SPOgDcxlV"
      }
    },
    {
      "cell_type": "code",
      "execution_count": null,
      "metadata": {
        "colab": {
          "base_uri": "https://localhost:8080/",
          "height": 1000
        },
        "id": "o4noW80mcQJc",
        "outputId": "aa34dd7e-c6f4-41e5-9ecd-58dbd1600d85"
      },
      "outputs": [
        {
          "output_type": "stream",
          "name": "stdout",
          "text": [
            "Model: \"sequential_3\"\n",
            "_________________________________________________________________\n",
            " Layer (type)                Output Shape              Param #   \n",
            "=================================================================\n",
            " conv2d_6 (Conv2D)           (None, 26, 26, 32)        320       \n",
            "                                                                 \n",
            " max_pooling2d_6 (MaxPoolin  (None, 13, 13, 32)        0         \n",
            " g2D)                                                            \n",
            "                                                                 \n",
            " dropout_6 (Dropout)         (None, 13, 13, 32)        0         \n",
            "                                                                 \n",
            " conv2d_7 (Conv2D)           (None, 11, 11, 64)        18496     \n",
            "                                                                 \n",
            " max_pooling2d_7 (MaxPoolin  (None, 5, 5, 64)          0         \n",
            " g2D)                                                            \n",
            "                                                                 \n",
            " dropout_7 (Dropout)         (None, 5, 5, 64)          0         \n",
            "                                                                 \n",
            " flatten_3 (Flatten)         (None, 1600)              0         \n",
            "                                                                 \n",
            " dense_7 (Dense)             (None, 128)               204928    \n",
            "                                                                 \n",
            " dropout_8 (Dropout)         (None, 128)               0         \n",
            "                                                                 \n",
            " dense_8 (Dense)             (None, 10)                1290      \n",
            "                                                                 \n",
            "=================================================================\n",
            "Total params: 225034 (879.04 KB)\n",
            "Trainable params: 225034 (879.04 KB)\n",
            "Non-trainable params: 0 (0.00 Byte)\n",
            "_________________________________________________________________\n",
            "Epoch 1/50\n",
            "375/375 [==============================] - 4s 6ms/step - loss: 0.7491 - sparse_categorical_accuracy: 0.7256 - val_loss: 0.4662 - val_sparse_categorical_accuracy: 0.8265\n",
            "Epoch 2/50\n",
            "375/375 [==============================] - 2s 5ms/step - loss: 0.4962 - sparse_categorical_accuracy: 0.8197 - val_loss: 0.3881 - val_sparse_categorical_accuracy: 0.8606\n",
            "Epoch 3/50\n",
            "375/375 [==============================] - 2s 5ms/step - loss: 0.4310 - sparse_categorical_accuracy: 0.8439 - val_loss: 0.3565 - val_sparse_categorical_accuracy: 0.8680\n",
            "Epoch 4/50\n",
            "375/375 [==============================] - 2s 5ms/step - loss: 0.3974 - sparse_categorical_accuracy: 0.8584 - val_loss: 0.3356 - val_sparse_categorical_accuracy: 0.8779\n",
            "Epoch 5/50\n",
            "375/375 [==============================] - 2s 6ms/step - loss: 0.3741 - sparse_categorical_accuracy: 0.8664 - val_loss: 0.3134 - val_sparse_categorical_accuracy: 0.8860\n",
            "Epoch 6/50\n",
            "375/375 [==============================] - 2s 6ms/step - loss: 0.3572 - sparse_categorical_accuracy: 0.8714 - val_loss: 0.2919 - val_sparse_categorical_accuracy: 0.8902\n",
            "Epoch 7/50\n",
            "375/375 [==============================] - 2s 5ms/step - loss: 0.3453 - sparse_categorical_accuracy: 0.8768 - val_loss: 0.2845 - val_sparse_categorical_accuracy: 0.8947\n",
            "Epoch 8/50\n",
            "375/375 [==============================] - 2s 5ms/step - loss: 0.3264 - sparse_categorical_accuracy: 0.8807 - val_loss: 0.2852 - val_sparse_categorical_accuracy: 0.8939\n",
            "Epoch 9/50\n",
            "375/375 [==============================] - 2s 5ms/step - loss: 0.3149 - sparse_categorical_accuracy: 0.8848 - val_loss: 0.2712 - val_sparse_categorical_accuracy: 0.8987\n",
            "Epoch 10/50\n",
            "375/375 [==============================] - 2s 5ms/step - loss: 0.3080 - sparse_categorical_accuracy: 0.8874 - val_loss: 0.2571 - val_sparse_categorical_accuracy: 0.9051\n",
            "Epoch 11/50\n",
            "375/375 [==============================] - 2s 5ms/step - loss: 0.3001 - sparse_categorical_accuracy: 0.8919 - val_loss: 0.2574 - val_sparse_categorical_accuracy: 0.9032\n",
            "Epoch 12/50\n",
            "375/375 [==============================] - 2s 6ms/step - loss: 0.2902 - sparse_categorical_accuracy: 0.8942 - val_loss: 0.2555 - val_sparse_categorical_accuracy: 0.9032\n",
            "Epoch 13/50\n",
            "375/375 [==============================] - 2s 5ms/step - loss: 0.2837 - sparse_categorical_accuracy: 0.8965 - val_loss: 0.2477 - val_sparse_categorical_accuracy: 0.9084\n",
            "Epoch 14/50\n",
            "375/375 [==============================] - 2s 5ms/step - loss: 0.2789 - sparse_categorical_accuracy: 0.8978 - val_loss: 0.2459 - val_sparse_categorical_accuracy: 0.9088\n",
            "Epoch 15/50\n",
            "375/375 [==============================] - 2s 5ms/step - loss: 0.2711 - sparse_categorical_accuracy: 0.9008 - val_loss: 0.2551 - val_sparse_categorical_accuracy: 0.9044\n",
            "Epoch 16/50\n",
            "375/375 [==============================] - 2s 5ms/step - loss: 0.2724 - sparse_categorical_accuracy: 0.9013 - val_loss: 0.2409 - val_sparse_categorical_accuracy: 0.9097\n",
            "Epoch 17/50\n",
            "375/375 [==============================] - 2s 5ms/step - loss: 0.2627 - sparse_categorical_accuracy: 0.9030 - val_loss: 0.2402 - val_sparse_categorical_accuracy: 0.9112\n",
            "Epoch 18/50\n",
            "375/375 [==============================] - 2s 6ms/step - loss: 0.2576 - sparse_categorical_accuracy: 0.9056 - val_loss: 0.2406 - val_sparse_categorical_accuracy: 0.9094\n",
            "Epoch 19/50\n",
            "375/375 [==============================] - 2s 5ms/step - loss: 0.2523 - sparse_categorical_accuracy: 0.9070 - val_loss: 0.2315 - val_sparse_categorical_accuracy: 0.9142\n",
            "Epoch 20/50\n",
            "375/375 [==============================] - 2s 5ms/step - loss: 0.2500 - sparse_categorical_accuracy: 0.9068 - val_loss: 0.2310 - val_sparse_categorical_accuracy: 0.9153\n",
            "Epoch 21/50\n",
            "375/375 [==============================] - 2s 5ms/step - loss: 0.2468 - sparse_categorical_accuracy: 0.9084 - val_loss: 0.2375 - val_sparse_categorical_accuracy: 0.9127\n",
            "Epoch 22/50\n",
            "375/375 [==============================] - 2s 5ms/step - loss: 0.2451 - sparse_categorical_accuracy: 0.9089 - val_loss: 0.2267 - val_sparse_categorical_accuracy: 0.9162\n",
            "Epoch 23/50\n",
            "375/375 [==============================] - 2s 5ms/step - loss: 0.2409 - sparse_categorical_accuracy: 0.9099 - val_loss: 0.2273 - val_sparse_categorical_accuracy: 0.9161\n",
            "Epoch 24/50\n",
            "375/375 [==============================] - 2s 5ms/step - loss: 0.2393 - sparse_categorical_accuracy: 0.9103 - val_loss: 0.2345 - val_sparse_categorical_accuracy: 0.9147\n",
            "Epoch 25/50\n",
            "375/375 [==============================] - 2s 6ms/step - loss: 0.2366 - sparse_categorical_accuracy: 0.9115 - val_loss: 0.2275 - val_sparse_categorical_accuracy: 0.9159\n",
            "Epoch 26/50\n",
            "375/375 [==============================] - 2s 5ms/step - loss: 0.2318 - sparse_categorical_accuracy: 0.9132 - val_loss: 0.2248 - val_sparse_categorical_accuracy: 0.9186\n",
            "Epoch 27/50\n",
            "375/375 [==============================] - 2s 5ms/step - loss: 0.2280 - sparse_categorical_accuracy: 0.9160 - val_loss: 0.2224 - val_sparse_categorical_accuracy: 0.9172\n",
            "Epoch 28/50\n",
            "375/375 [==============================] - 2s 5ms/step - loss: 0.2246 - sparse_categorical_accuracy: 0.9149 - val_loss: 0.2260 - val_sparse_categorical_accuracy: 0.9193\n",
            "Epoch 29/50\n",
            "375/375 [==============================] - 2s 5ms/step - loss: 0.2230 - sparse_categorical_accuracy: 0.9151 - val_loss: 0.2352 - val_sparse_categorical_accuracy: 0.9158\n",
            "Epoch 30/50\n",
            "375/375 [==============================] - 2s 5ms/step - loss: 0.2230 - sparse_categorical_accuracy: 0.9171 - val_loss: 0.2213 - val_sparse_categorical_accuracy: 0.9218\n",
            "Epoch 31/50\n",
            "375/375 [==============================] - 2s 5ms/step - loss: 0.2209 - sparse_categorical_accuracy: 0.9178 - val_loss: 0.2190 - val_sparse_categorical_accuracy: 0.9197\n",
            "Epoch 32/50\n",
            "375/375 [==============================] - 2s 6ms/step - loss: 0.2179 - sparse_categorical_accuracy: 0.9180 - val_loss: 0.2239 - val_sparse_categorical_accuracy: 0.9197\n",
            "Epoch 33/50\n",
            "375/375 [==============================] - 2s 6ms/step - loss: 0.2175 - sparse_categorical_accuracy: 0.9183 - val_loss: 0.2231 - val_sparse_categorical_accuracy: 0.9197\n",
            "Epoch 34/50\n",
            "375/375 [==============================] - 2s 5ms/step - loss: 0.2102 - sparse_categorical_accuracy: 0.9200 - val_loss: 0.2237 - val_sparse_categorical_accuracy: 0.9222\n",
            "Epoch 35/50\n",
            "375/375 [==============================] - 2s 5ms/step - loss: 0.2140 - sparse_categorical_accuracy: 0.9180 - val_loss: 0.2167 - val_sparse_categorical_accuracy: 0.9217\n",
            "Epoch 36/50\n",
            "375/375 [==============================] - 2s 5ms/step - loss: 0.2097 - sparse_categorical_accuracy: 0.9200 - val_loss: 0.2143 - val_sparse_categorical_accuracy: 0.9201\n",
            "Epoch 37/50\n",
            "375/375 [==============================] - 2s 5ms/step - loss: 0.2071 - sparse_categorical_accuracy: 0.9224 - val_loss: 0.2234 - val_sparse_categorical_accuracy: 0.9208\n",
            "Epoch 38/50\n",
            "375/375 [==============================] - 2s 6ms/step - loss: 0.2039 - sparse_categorical_accuracy: 0.9230 - val_loss: 0.2196 - val_sparse_categorical_accuracy: 0.9215\n",
            "Epoch 39/50\n",
            "375/375 [==============================] - 2s 5ms/step - loss: 0.2031 - sparse_categorical_accuracy: 0.9231 - val_loss: 0.2236 - val_sparse_categorical_accuracy: 0.9193\n",
            "Epoch 40/50\n",
            "375/375 [==============================] - 2s 5ms/step - loss: 0.2017 - sparse_categorical_accuracy: 0.9234 - val_loss: 0.2277 - val_sparse_categorical_accuracy: 0.9193\n",
            "Epoch 41/50\n",
            "375/375 [==============================] - 2s 5ms/step - loss: 0.2015 - sparse_categorical_accuracy: 0.9216 - val_loss: 0.2226 - val_sparse_categorical_accuracy: 0.9208\n",
            "313/313 [==============================] - 1s 2ms/step - loss: 0.2313 - sparse_categorical_accuracy: 0.9137\n"
          ]
        },
        {
          "output_type": "display_data",
          "data": {
            "text/plain": [
              "<Figure size 1300x400 with 2 Axes>"
            ],
            "image/png": "[encoded data removed]"
          },
          "metadata": {}
        },
        {
          "output_type": "execute_result",
          "data": {
            "text/plain": [
              "0.9136999845504761"
            ]
          },
          "metadata": {},
          "execution_count": 8
        }
      ],
      "source": [
        "early_stopping = EarlyStopping(monitor='val_loss', patience=5, restore_best_weights=True)\n",
        "\n",
        "model = Sequential([\n",
        "    Conv2D(32, (3, 3), activation='relu', input_shape=(28, 28, 1)),\n",
        "    MaxPooling2D((2, 2)),\n",
        "    Dropout(0.25),\n",
        "    Conv2D(64, (3, 3), activation='relu'),\n",
        "    MaxPooling2D((2, 2)),\n",
        "    Dropout(0.25),\n",
        "    Flatten(),\n",
        "    Dense(128, activation='relu'),\n",
        "    Dropout(0.5),\n",
        "    Dense(10)\n",
        "  ])\n",
        "model.compile(\n",
        "    loss=SparseCategoricalCrossentropy(from_logits=True),\n",
        "    optimizer=Adam(learning_rate=0.001),\n",
        "    metrics=[SparseCategoricalAccuracy()]\n",
        "    )\n",
        "model.summary()\n",
        "\n",
        "history = model.fit(x_train, y_train, epochs=50, batch_size=128, validation_split=0.2, callbacks=[early_stopping])\n",
        "\n",
        "test_loss, test_acc = model.evaluate(x_test, y_test)\n",
        "plot_history(history)\n",
        "test_acc"
      ]
    },
    {
      "cell_type": "markdown",
      "source": [
        "Висновок:  \n",
        "В мережі з попереднього завдання без згорткових шарів вдалося досягти 87% точності.  \n",
        "Ця ж модель розігналась до 91.3%.  \n",
        "Ця модель краща =)"
      ],
      "metadata": {
        "id": "JH4Dxxcbig11"
      }
    },
    {
      "cell_type": "markdown",
      "source": [
        "# Частина 2"
      ],
      "metadata": {
        "id": "6K-UsEGedIrd"
      }
    },
    {
      "cell_type": "markdown",
      "source": [
        "**Використаємо VGG16 в якості згорткової основи.\n",
        "Навчимо отриману мережу на даних із датасету fasion_mnist. Під час навчання використаємо прийоми донавчання та виділення ознак.**"
      ],
      "metadata": {
        "id": "o53Pmx7RjPZH"
      }
    },
    {
      "cell_type": "code",
      "source": [
        "from keras.applications.vgg16 import VGG16\n",
        "from tensorflow.image import resize"
      ],
      "metadata": {
        "id": "lfX9Flz7jxsP"
      },
      "execution_count": 3,
      "outputs": []
    },
    {
      "cell_type": "markdown",
      "source": [
        "Побудуємо, навчимо та перевіримо модель"
      ],
      "metadata": {
        "id": "U2w6Tw6KknUD"
      }
    },
    {
      "cell_type": "code",
      "source": [
        "early_stopping = EarlyStopping(monitor='val_loss', patience=5, restore_best_weights=True)\n",
        "\n",
        "(x_train, y_train), (x_test, y_test) = tf.keras.datasets.fashion_mnist.load_data()\n",
        "\n",
        "x_train = np.expand_dims(x_train, axis=-1)\n",
        "x_test = np.expand_dims(x_test, axis=-1)\n",
        "\n",
        "x_train = np.concatenate([x_train, x_train, x_train], axis=-1)\n",
        "x_test = np.concatenate([x_test, x_test, x_test], axis=-1)\n",
        "\n",
        "x_train = resize(x_train, (224, 224))\n",
        "x_test = resize(x_test, (224, 224))\n",
        "\n",
        "x_train = x_train / 255.0\n",
        "x_test = x_test / 255.0\n",
        "\n",
        "conv_base = VGG16(weights=\"imagenet\", include_top=False, input_shape=(224, 224, 3))\n",
        "\n",
        "conv_base.trainable = True\n",
        "set_trainable = False\n",
        "for layer in conv_base.layers:\n",
        "    if layer.name == \"block5_conv1\":\n",
        "        set_trainable = True\n",
        "    if set_trainable:\n",
        "        layer.trainable = True\n",
        "    else:\n",
        "        layer.trainable = False\n",
        "\n",
        "model = Sequential([\n",
        "   conv_base,\n",
        "   Flatten(),\n",
        "   Dense(128, activation=\"relu\"),\n",
        "   Dense(10),\n",
        "])\n",
        "model.compile(\n",
        "    loss=SparseCategoricalCrossentropy(from_logits=True),\n",
        "    optimizer=Adam(learning_rate=1e-5),\n",
        "    metrics=[SparseCategoricalAccuracy()]\n",
        "    )\n",
        "model.summary()\n",
        "\n",
        "history = model.fit(x_train, y_train, epochs=50, validation_data=(x_test, y_test), batch_size=32, callbacks=[early_stopping])\n",
        "\n",
        "test_loss, test_acc = model.evaluate(x_test, y_test)\n",
        "plot_history(history)\n",
        "test_acc"
      ],
      "metadata": {
        "id": "JKWiMkckkCxj"
      },
      "execution_count": null,
      "outputs": []
    }
  ]
}