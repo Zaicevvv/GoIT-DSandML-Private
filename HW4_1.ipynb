{
  "nbformat": 4,
  "nbformat_minor": 0,
  "metadata": {
    "colab": {
      "provenance": [],
      "authorship_tag": "ABX9TyOZvPnzST2VN+neSq/r/ZiA",
      "include_colab_link": true
    },
    "kernelspec": {
      "name": "python3",
      "display_name": "Python 3"
    },
    "language_info": {
      "name": "python"
    }
  },
  "cells": [
    {
      "cell_type": "markdown",
      "metadata": {
        "id": "view-in-github",
        "colab_type": "text"
      },
      "source": [
        "<a href=\"https://colab.research.google.com/github/Zaicevvv/goit-dsandml-private/blob/main/HW4_1.ipynb\" target=\"_parent\"><img src=\"https://colab.research.google.com/assets/colab-badge.svg\" alt=\"Open In Colab\"/></a>"
      ]
    },
    {
      "cell_type": "code",
      "execution_count": 2,
      "metadata": {
        "colab": {
          "base_uri": "https://localhost:8080/"
        },
        "id": "8xYQkGojAofy",
        "outputId": "42df5ae9-021d-40ec-e10b-bc4ebeb0e4bf"
      },
      "outputs": [
        {
          "output_type": "stream",
          "name": "stdout",
          "text": [
            "[ 1  2  3  4  5  6  7  8  9 10]\n"
          ]
        }
      ],
      "source": [
        "import numpy as np\n",
        "\n",
        "a = np.array([1, 2, 3, 4, 5, 6, 7, 8, 9, 10])\n",
        "print(a)"
      ]
    },
    {
      "cell_type": "code",
      "source": [
        "a = np.zeros((3,3))\n",
        "print(a)"
      ],
      "metadata": {
        "colab": {
          "base_uri": "https://localhost:8080/"
        },
        "id": "ynVvU_ISntzY",
        "outputId": "7597303a-91c1-4375-955a-357429992483"
      },
      "execution_count": null,
      "outputs": [
        {
          "output_type": "stream",
          "name": "stdout",
          "text": [
            "[[0. 0. 0.]\n",
            " [0. 0. 0.]\n",
            " [0. 0. 0.]]\n"
          ]
        }
      ]
    },
    {
      "cell_type": "code",
      "source": [
        "a = np.random.randint(1,10,(5,5))\n",
        "print(a)"
      ],
      "metadata": {
        "colab": {
          "base_uri": "https://localhost:8080/"
        },
        "id": "FIdUYPMtooPw",
        "outputId": "963eb8a0-3ffa-4073-9115-4fada5e35f58"
      },
      "execution_count": null,
      "outputs": [
        {
          "output_type": "stream",
          "name": "stdout",
          "text": [
            "[[9 2 5 6 9]\n",
            " [6 4 3 4 3]\n",
            " [5 6 2 4 1]\n",
            " [4 4 3 7 9]\n",
            " [7 1 6 6 1]]\n"
          ]
        }
      ]
    },
    {
      "cell_type": "code",
      "source": [
        "a = np.random.random((4,4))\n",
        "print(a)"
      ],
      "metadata": {
        "colab": {
          "base_uri": "https://localhost:8080/"
        },
        "id": "utcNM13NpEu5",
        "outputId": "104a2025-baac-4f2c-9b5b-b6caee1f7feb"
      },
      "execution_count": null,
      "outputs": [
        {
          "output_type": "stream",
          "name": "stdout",
          "text": [
            "[[0.20354806 0.87036848 0.09250915 0.57907478]\n",
            " [0.41141299 0.66239903 0.76399842 0.06492236]\n",
            " [0.52124772 0.62733789 0.45528992 0.64958244]\n",
            " [0.75323398 0.90899642 0.86167328 0.76962454]]\n"
          ]
        }
      ]
    },
    {
      "cell_type": "code",
      "source": [
        "a = np.random.randint(1,10,(5,))\n",
        "b = np.random.randint(1,10,(5,))\n",
        "print(a + b)\n",
        "print(a - b)\n",
        "print(a * b)"
      ],
      "metadata": {
        "colab": {
          "base_uri": "https://localhost:8080/"
        },
        "id": "PSYYhPKApaOi",
        "outputId": "90011555-9806-414b-f802-55511b337ba6"
      },
      "execution_count": null,
      "outputs": [
        {
          "output_type": "stream",
          "name": "stdout",
          "text": [
            "[11  9  8 14 15]\n",
            "[-7  7  2  0 -3]\n",
            "[18  8 15 49 54]\n"
          ]
        }
      ]
    },
    {
      "cell_type": "code",
      "source": [
        "a = np.random.randint(1,10,(7,))\n",
        "b = np.random.randint(1,10,(7,))\n",
        "print(np.dot(a, b))"
      ],
      "metadata": {
        "colab": {
          "base_uri": "https://localhost:8080/"
        },
        "id": "uY-Xzlexp72b",
        "outputId": "36db605e-7e9a-4fd1-d0fc-ff9ab65f1c0d"
      },
      "execution_count": null,
      "outputs": [
        {
          "output_type": "stream",
          "name": "stdout",
          "text": [
            "210\n"
          ]
        }
      ]
    },
    {
      "cell_type": "code",
      "source": [
        "a = np.random.randint(1,10,(2,2))\n",
        "b = np.random.randint(1,10,(2,3))\n",
        "print(np.dot(a, b))"
      ],
      "metadata": {
        "colab": {
          "base_uri": "https://localhost:8080/"
        },
        "id": "RAeFfznYqju0",
        "outputId": "52b63cdd-3d0c-48e2-b2e5-70569ce8cb30"
      },
      "execution_count": null,
      "outputs": [
        {
          "output_type": "stream",
          "name": "stdout",
          "text": [
            "[[11 28 16]\n",
            " [21 68 36]]\n"
          ]
        }
      ]
    },
    {
      "cell_type": "code",
      "source": [
        "a = np.random.randint(1,10,(3,3))\n",
        "print(np.linalg.inv(a))"
      ],
      "metadata": {
        "colab": {
          "base_uri": "https://localhost:8080/"
        },
        "id": "7HZCfmLaq4Ho",
        "outputId": "59cc3c46-38ff-488f-95f3-de48c5ce9431"
      },
      "execution_count": null,
      "outputs": [
        {
          "output_type": "stream",
          "name": "stdout",
          "text": [
            "[[ 0.13953488  0.06976744 -0.08527132]\n",
            " [-0.02325581 -0.51162791  0.40310078]\n",
            " [-0.02325581  0.48837209 -0.26356589]]\n"
          ]
        }
      ]
    },
    {
      "cell_type": "code",
      "source": [
        "a = np.random.random((4,4))\n",
        "print(a.T)"
      ],
      "metadata": {
        "colab": {
          "base_uri": "https://localhost:8080/"
        },
        "id": "a7pzn8v4ryux",
        "outputId": "cc0f0dd2-b269-4d2a-da0a-a0f4cdc710fc"
      },
      "execution_count": null,
      "outputs": [
        {
          "output_type": "stream",
          "name": "stdout",
          "text": [
            "[[0.22686835 0.92541723 0.90595048 0.56059839]\n",
            " [0.90957958 0.5829641  0.87100204 0.9901494 ]\n",
            " [0.01820523 0.89593911 0.60711711 0.27311048]\n",
            " [0.27508699 0.18752798 0.6647294  0.43321512]]\n"
          ]
        }
      ]
    },
    {
      "cell_type": "code",
      "source": [
        "a = np.random.randint(1,10,(3,4))\n",
        "b = np.random.randint(1,10,(4,))\n",
        "print(np.dot(a, b))"
      ],
      "metadata": {
        "colab": {
          "base_uri": "https://localhost:8080/"
        },
        "id": "_mIHt6fzr2i2",
        "outputId": "2b9e19c4-b210-4025-fd7f-be47025981ac"
      },
      "execution_count": null,
      "outputs": [
        {
          "output_type": "stream",
          "name": "stdout",
          "text": [
            "[ 69 102 113]\n"
          ]
        }
      ]
    },
    {
      "cell_type": "code",
      "source": [
        "a = np.random.random((2,3))\n",
        "b = np.random.random((3,))\n",
        "print(np.dot(a, b))"
      ],
      "metadata": {
        "colab": {
          "base_uri": "https://localhost:8080/"
        },
        "id": "J8gP8ipis78i",
        "outputId": "b4a28a8b-10e6-4846-c189-910730518827"
      },
      "execution_count": null,
      "outputs": [
        {
          "output_type": "stream",
          "name": "stdout",
          "text": [
            "[0.66051007 0.24639499]\n"
          ]
        }
      ]
    },
    {
      "cell_type": "code",
      "source": [
        "a = np.random.randint(1,10,(2,2))\n",
        "b = np.random.randint(1,10,(2,2))\n",
        "print(a * b)"
      ],
      "metadata": {
        "colab": {
          "base_uri": "https://localhost:8080/"
        },
        "id": "T67dzht3tRRo",
        "outputId": "c0021574-632b-40e8-8cc9-b495cc9c9efc"
      },
      "execution_count": null,
      "outputs": [
        {
          "output_type": "stream",
          "name": "stdout",
          "text": [
            "[[63 45]\n",
            " [24 45]]\n"
          ]
        }
      ]
    },
    {
      "cell_type": "code",
      "source": [
        "a = np.random.randint(1,10,(2,2))\n",
        "b = np.random.randint(1,10,(2,2))\n",
        "print(np.dot(a, b))"
      ],
      "metadata": {
        "colab": {
          "base_uri": "https://localhost:8080/"
        },
        "id": "InWF5vaSthut",
        "outputId": "17aea55c-eb6b-43e6-ae9e-6b2d8dcc4241"
      },
      "execution_count": null,
      "outputs": [
        {
          "output_type": "stream",
          "name": "stdout",
          "text": [
            "[[14 91]\n",
            " [ 7 28]]\n"
          ]
        }
      ]
    },
    {
      "cell_type": "code",
      "source": [
        "a = np.random.randint(1,100,(5,5))\n",
        "print(a.sum())"
      ],
      "metadata": {
        "colab": {
          "base_uri": "https://localhost:8080/"
        },
        "id": "cerlNiketu6E",
        "outputId": "e799bf17-5f95-4a03-932d-2e237d617d43"
      },
      "execution_count": null,
      "outputs": [
        {
          "output_type": "stream",
          "name": "stdout",
          "text": [
            "1375\n"
          ]
        }
      ]
    },
    {
      "cell_type": "code",
      "source": [
        "a = np.random.randint(1,10,(4,4))\n",
        "b = np.random.randint(1,10,(4,4))\n",
        "print(a - b)"
      ],
      "metadata": {
        "colab": {
          "base_uri": "https://localhost:8080/"
        },
        "id": "C3_87RWvuEn7",
        "outputId": "5d7d841c-b1ce-4acb-860a-9602a67f0785"
      },
      "execution_count": null,
      "outputs": [
        {
          "output_type": "stream",
          "name": "stdout",
          "text": [
            "[[ 0 -4 -1 -5]\n",
            " [ 4 -2  4 -3]\n",
            " [-4  6 -1  7]\n",
            " [-1 -1  3  0]]\n"
          ]
        }
      ]
    },
    {
      "cell_type": "code",
      "source": [
        "a = np.random.random((3,3))\n",
        "b = np.sum(a, axis=1)\n",
        "print(b.reshape(-1,1))"
      ],
      "metadata": {
        "colab": {
          "base_uri": "https://localhost:8080/"
        },
        "id": "fYbO5Q4ouPGs",
        "outputId": "f199e9a1-47bd-4197-87a3-eb6055f7a3ae"
      },
      "execution_count": null,
      "outputs": [
        {
          "output_type": "stream",
          "name": "stdout",
          "text": [
            "[[1.31961221]\n",
            " [1.1061344 ]\n",
            " [1.55167874]]\n"
          ]
        }
      ]
    },
    {
      "cell_type": "code",
      "source": [
        "a = np.random.randint(1, 10,(3, 4))\n",
        "print(np.square(a))"
      ],
      "metadata": {
        "colab": {
          "base_uri": "https://localhost:8080/"
        },
        "id": "jgPcOqDzwrqD",
        "outputId": "2d65464c-9bd3-4282-dcf3-57bb56cf4437"
      },
      "execution_count": null,
      "outputs": [
        {
          "output_type": "stream",
          "name": "stdout",
          "text": [
            "[[16  4 64 81]\n",
            " [ 9 36 64 49]\n",
            " [ 9  1 36  1]]\n"
          ]
        }
      ]
    },
    {
      "cell_type": "code",
      "source": [
        "a = np.random.randint(1, 50,(4,))\n",
        "print(np.sqrt(a))"
      ],
      "metadata": {
        "colab": {
          "base_uri": "https://localhost:8080/"
        },
        "id": "v2oEUZnqxT2e",
        "outputId": "34ea19bc-86f0-4651-eec5-54c524e6fbfe"
      },
      "execution_count": 3,
      "outputs": [
        {
          "output_type": "stream",
          "name": "stdout",
          "text": [
            "[6.164414   5.91607978 6.78232998 5.83095189]\n"
          ]
        }
      ]
    }
  ]
}