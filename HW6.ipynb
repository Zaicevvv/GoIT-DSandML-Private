{
  "nbformat": 4,
  "nbformat_minor": 0,
  "metadata": {
    "colab": {
      "provenance": [],
      "authorship_tag": "ABX9TyN3Iu3VIdJs7rqdDYyS74St",
      "include_colab_link": true
    },
    "kernelspec": {
      "name": "python3",
      "display_name": "Python 3"
    },
    "language_info": {
      "name": "python"
    }
  },
  "cells": [
    {
      "cell_type": "markdown",
      "metadata": {
        "id": "view-in-github",
        "colab_type": "text"
      },
      "source": [
        "<a href=\"https://colab.research.google.com/github/Zaicevvv/GoIT-DSandML-Private/blob/main/HW6.ipynb\" target=\"_parent\"><img src=\"https://colab.research.google.com/assets/colab-badge.svg\" alt=\"Open In Colab\"/></a>"
      ]
    },
    {
      "cell_type": "markdown",
      "source": [
        "напишіть функцію гіпотези лінійної регресії у векторному вигляді;"
      ],
      "metadata": {
        "id": "MnWsdIMxbdfW"
      }
    },
    {
      "cell_type": "code",
      "execution_count": 25,
      "metadata": {
        "id": "zaHnMqXmY0yj"
      },
      "outputs": [],
      "source": [
        "import numpy as np\n",
        "\n",
        "def hypothesis(X, theta):\n",
        "    return np.dot(X, theta)"
      ]
    },
    {
      "cell_type": "markdown",
      "source": [
        "створіть функцію для обчислення функції втрат у векторному вигляді;"
      ],
      "metadata": {
        "id": "516-zdnWbh9w"
      }
    },
    {
      "cell_type": "code",
      "source": [
        "def compute_cost(theta, X, y):\n",
        "    m = len(y)\n",
        "    h = np.dot(X, theta)\n",
        "    J = np.sum((h - y) ** 2) / (2 * m)\n",
        "    return J"
      ],
      "metadata": {
        "id": "ibB9eiVZbnjN"
      },
      "execution_count": 26,
      "outputs": []
    },
    {
      "cell_type": "markdown",
      "source": [
        "реалізуйте один крок градієнтного спуску;"
      ],
      "metadata": {
        "id": "wbRTboJdbwbh"
      }
    },
    {
      "cell_type": "code",
      "source": [
        "def gradient_descent_step(theta, X, y, alpha):\n",
        "    m = len(y)\n",
        "    h = hypothesis(X, theta)\n",
        "    gradient = np.dot(X.T, (h - y)) / m\n",
        "    new_theta = theta - alpha * gradient\n",
        "    return new_theta"
      ],
      "metadata": {
        "id": "_hCi5_Qvbyv_"
      },
      "execution_count": 27,
      "outputs": []
    },
    {
      "cell_type": "markdown",
      "source": [
        "знайдіть найкращі параметри\n",
        "�\n",
        "⃗\n",
        "w\n",
        "  для датасету використовуючи написані вами функції, прогнозуючу ціну на будинок залежно від площі, кількості ванних кімнат та кількості спалень;"
      ],
      "metadata": {
        "id": "NbvbBmVDb6ox"
      }
    },
    {
      "cell_type": "code",
      "source": [
        "import pandas as pd\n",
        "import matplotlib.pyplot as plt\n",
        "\n",
        "data = pd.read_csv('/content/Housing.csv')\n",
        "\n",
        "X = data[['area', 'bedrooms', 'bathrooms']].values\n",
        "y = data['price'].values\n",
        "\n",
        "X = np.column_stack((np.ones(len(X)), X))\n",
        "\n",
        "np.random.seed(0)\n",
        "initial_w = np.random.rand(X.shape[1])\n",
        "\n",
        "alpha = 0.01\n",
        "iterations = 1000\n",
        "\n",
        "def feature_normalize(X):\n",
        "    mu = np.mean(X, axis=0)\n",
        "    sigma = np.std(X, axis=0)\n",
        "    X_norm = (X - mu) / sigma\n",
        "    return X_norm\n",
        "\n",
        "X_norm = feature_normalize(X[:, 1:])\n",
        "\n",
        "X_norm = np.column_stack((np.ones(len(X_norm)), X_norm))\n",
        "\n",
        "cost_history = []\n",
        "for i in range(iterations):\n",
        "    initial_w = gradient_descent_step(initial_w, X_norm, y, alpha)\n",
        "    cost = compute_cost(initial_w, X_norm, y)\n",
        "    cost_history.append(cost)\n",
        "\n",
        "print(\"Найкращі параметри w:\", initial_w)\n",
        "\n",
        "plt.plot(cost_history)\n",
        "plt.xlabel('Ітерація')\n",
        "plt.ylabel('Функція втрат')\n",
        "plt.title('Зміна значення функції втрат від ітерації')\n",
        "plt.show()"
      ],
      "metadata": {
        "colab": {
          "base_uri": "https://localhost:8080/",
          "height": 490
        },
        "id": "fEISvOgkcFST",
        "outputId": "fbb5e73c-0aea-4bde-e6ca-b84d25c7e321"
      },
      "execution_count": 29,
      "outputs": [
        {
          "output_type": "stream",
          "name": "stdout",
          "text": [
            "Найкращі параметри w: [4766523.46208242  821199.26714977  300296.28570374  695515.99610904]\n"
          ]
        },
        {
          "output_type": "display_data",
          "data": {
            "text/plain": [
              "<Figure size 640x480 with 1 Axes>"
            ],
            "image/png": "[encoded data removed]"
          },
          "metadata": {}
        }
      ]
    },
    {
      "cell_type": "markdown",
      "source": [
        "знайдіть ці ж параметри за допомогою аналітичного рішення;"
      ],
      "metadata": {
        "id": "jJLuzvLBcJVC"
      }
    },
    {
      "cell_type": "code",
      "source": [
        "def normal_equation(X, y):\n",
        "    w = np.linalg.inv(X.T.dot(X)).dot(X.T).dot(y)\n",
        "    return w\n",
        "\n",
        "optimal_w = normal_equation(X_norm, y)\n",
        "print(\"Оптимальні параметри w:\", optimal_w)"
      ],
      "metadata": {
        "colab": {
          "base_uri": "https://localhost:8080/"
        },
        "id": "UhiCdM3VcMnt",
        "outputId": "b638c4a6-7831-4462-9c97-35a240a8a968"
      },
      "execution_count": 30,
      "outputs": [
        {
          "output_type": "stream",
          "name": "stdout",
          "text": [
            "Оптимальні параметри w: [4766729.24770642  821214.14349519  299983.57107963  695808.52272538]\n"
          ]
        }
      ]
    },
    {
      "cell_type": "markdown",
      "source": [
        "для перевірки спрогнозованих значень, використайте LinearRegression з бібліотеки scikit-learn та порівняйте результати."
      ],
      "metadata": {
        "id": "S38hWM2UcNBe"
      }
    },
    {
      "cell_type": "code",
      "source": [
        "from sklearn.linear_model import LinearRegression\n",
        "from sklearn.metrics import mean_squared_error\n",
        "\n",
        "model = LinearRegression().fit(X_norm, y)\n",
        "\n",
        "sklearn_w = np.append(model.intercept_, model.coef_[1:])\n",
        "\n",
        "y_pred_sklearn = model.predict(X_norm)\n",
        "\n",
        "mse_sklearn = mean_squared_error(y, y_pred_sklearn)\n",
        "\n",
        "print(\"Коефіцієнти регресії:\", sklearn_w)\n",
        "print(\"MSE:\", mse_sklearn)"
      ],
      "metadata": {
        "colab": {
          "base_uri": "https://localhost:8080/"
        },
        "id": "VncpTvlAcPj5",
        "outputId": "2118fed1-a7fa-4dee-b563-e1e39d667155"
      },
      "execution_count": 31,
      "outputs": [
        {
          "output_type": "stream",
          "name": "stdout",
          "text": [
            "Коефіцієнти регресії: [4766729.24770642  821214.14349519  299983.57107963  695808.52272537]\n",
            "MSE: 1791170049977.319\n"
          ]
        }
      ]
    }
  ]
}